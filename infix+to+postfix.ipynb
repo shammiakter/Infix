{
 "cells": [
  {
   "cell_type": "code",
   "execution_count": 10,
   "metadata": {},
   "outputs": [
    {
     "name": "stdout",
     "output_type": "stream",
     "text": [
      "Enter the equation: a x c - b / c + c x c\n"
     ]
    }
   ],
   "source": [
    "y = input('Enter the equation: ')\n"
   ]
  },
  {
   "cell_type": "code",
   "execution_count": 11,
   "metadata": {
    "collapsed": true
   },
   "outputs": [],
   "source": [
    "operator = ['x', '/', '-', '+']"
   ]
  },
  {
   "cell_type": "code",
   "execution_count": 12,
   "metadata": {
    "collapsed": true
   },
   "outputs": [],
   "source": [
    "output = []\n",
    "stack = []\n",
    "for i in y:\n",
    "    if i not in operator:\n",
    "        output.append(i)\n",
    "    else:\n",
    "        if len(stack) != 0:\n",
    "            if operator.index(stack[-1]) >= operator.index(i):\n",
    "                stack.append(i)\n",
    "            else:\n",
    "                output.append(stack[-1])\n",
    "                stack.pop()\n",
    "                stack.append(i)\n",
    "        else:\n",
    "            stack.append(i)"
   ]
  },
  {
   "cell_type": "code",
   "execution_count": 13,
   "metadata": {},
   "outputs": [
    {
     "name": "stdout",
     "output_type": "stream",
     "text": [
      "acxbc/ccx+-"
     ]
    }
   ],
   "source": [
    "outputs = output + stack[::-1]\n",
    "for i in outputs:\n",
    "    if i != \" \":\n",
    "        print(i, end=\"\")"
   ]
  }
 ],
 "metadata": {
  "kernelspec": {
   "display_name": "Python 2",
   "language": "python",
   "name": "python2"
  },
  "language_info": {
   "codemirror_mode": {
    "name": "ipython",
    "version": 2
   },
   "file_extension": ".py",
   "mimetype": "text/x-python",
   "name": "python",
   "nbconvert_exporter": "python",
   "pygments_lexer": "ipython2",
   "version": "2.7.13"
  }
 },
 "nbformat": 4,
 "nbformat_minor": 2
}
